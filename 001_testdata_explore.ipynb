{
 "cells": [
  {
   "cell_type": "markdown",
   "metadata": {},
   "source": [
    "this notebook best viewed here: http://nbviewer.jupyter.org"
   ]
  },
  {
   "cell_type": "markdown",
   "metadata": {},
   "source": [
    " "
   ]
  },
  {
   "cell_type": "markdown",
   "metadata": {},
   "source": [
    "  "
   ]
  },
  {
   "cell_type": "markdown",
   "metadata": {},
   "source": [
    " "
   ]
  },
  {
   "cell_type": "markdown",
   "metadata": {},
   "source": [
    "#### Purpose\n",
    "\n",
    "We ran the same population as individuals (indSeq) and as a pool (poolSeq).\n",
    "\n",
    "Here I read in the data, filter for the intersection of common loci, and then explore the data a bit.\n",
    "\n",
    "I had coded the pipeline to also capture loci that are biallelic (two alleles) but neither of these alleles were the reference (since we're using a reference from a different species). Normally, pipelines will only keep biallelic SNPs where one of the alleles is the reference allele. In any case, I discard them here because there aren't very many of them.\n",
    "\n",
    "#### Conclusions\n",
    "\n",
    "It's probably OK to leave in the noREF SNPs, the frequency is estimated (more or less) pretty similarly between GATK and VarScan (even if the alleles are not the same), but since there aren't very many I decided to discard them from further analyses."
   ]
  },
  {
   "cell_type": "markdown",
   "metadata": {},
   "source": [
    "  "
   ]
  },
  {
   "cell_type": "markdown",
   "metadata": {},
   "source": [
    " "
   ]
  },
  {
   "cell_type": "markdown",
   "metadata": {},
   "source": [
    " "
   ]
  },
  {
   "cell_type": "markdown",
   "metadata": {},
   "source": [
    " "
   ]
  },
  {
   "cell_type": "code",
   "execution_count": 1,
   "metadata": {},
   "outputs": [],
   "source": [
    "from pythonimports import *\n",
    "methodsdir = makedir('/data/home/lindb/methods_paper_analysis')\n",
    "firstdir = makedir(op.join(methodsdir, '001_testdata_explore'))"
   ]
  },
  {
   "cell_type": "markdown",
   "metadata": {},
   "source": [
    " "
   ]
  },
  {
   "cell_type": "markdown",
   "metadata": {},
   "source": [
    "# get the snptables, do some minor filtering\n",
    "- read in data\n",
    "- filter for intersecting loci\n",
    "- save to .pkl"
   ]
  },
  {
   "cell_type": "code",
   "execution_count": 2,
   "metadata": {},
   "outputs": [],
   "source": [
    "# get the file names\n",
    "sppfiles = {'gatk':{'JP': '/data/projects/pool_seq/non-pangenome/gatk_diploid_testdata/JP_i101-gatk/filtered_snps/JP_i101_filtered_concatenated_snps_max-missing_table_biallelic-only_translated.txt',\n",
    "                   'DF': '/data/projects/pool_seq/non-pangenome/gatk_diploid_testdata/DF_i52-gatk/filtered_snps/DF_i52_filtered_concatenated_snps_max-missing_table_biallelic-only_p000_translated.txt'},\n",
    "           'varscan':{'JP': '/data/projects/pool_seq/non-pangenome/varscan_pooled/JP_pooled/snpsANDindels/JP_pooled-varscan_all_bedfiles_SNP_translated.txt',\n",
    "                      'DF': '/data/projects/pool_seq/non-pangenome/varscan_pooled/DF_p52/snpsANDindels/DF_p52-varscan_all_bedfiles_SNP.txt'}}"
   ]
  },
  {
   "cell_type": "code",
   "execution_count": 3,
   "metadata": {},
   "outputs": [],
   "source": [
    "# make sure I copied them correctly\n",
    "for method,spp in sppfiles.items():\n",
    "    for sp,f in spp.items():\n",
    "        assert op.exists(f)"
   ]
  },
  {
   "cell_type": "code",
   "execution_count": 26,
   "metadata": {},
   "outputs": [
    {
     "name": "stdout",
     "output_type": "stream",
     "text": [
      "gatk\n",
      "\t JP\n",
      "\t DF\n",
      "varscan\n",
      "\t JP\n",
      "\t DF\n"
     ]
    }
   ],
   "source": [
    "# read in the tables\n",
    "tablecols = ['CHROM','POS','REF','ALT','AF','QUAL','TYPE','FILTER','ADP','WT','HET','HOM','NC']\n",
    "snps = {}\n",
    "for method in sppfiles:\n",
    "    print(method)\n",
    "    snps[method] = {}\n",
    "    for spp in sppfiles[method]:\n",
    "        print('\\t',spp)\n",
    "        snps[method][spp] = pd.read_table(sppfiles[method][spp])\n",
    "        if method == 'varscan' and spp == 'JP':\n",
    "            # i ran all pools, isolate JP_p101 calls\n",
    "            locuscols = [col for col in snps[method][spp] if 'locus' in col]\n",
    "            snps[method][spp] = snps[method][spp][tablecols + ['JP_p101.GT','JP_p101.GQ','JP_p101.SDP',\n",
    "                                                               'JP_p101.DP','JP_p101.FREQ','JP_p101.PVAL'] +locuscols]\n",
    "            # remove AF=0 (because SNPs were called across all pools, JP_p101 can have AF=0)\n",
    "            # AF=0 wouldn't be possible if calling AFs on a single pool\n",
    "            snps[method][spp] = snps[method][spp][snps[method][spp]['JP_p101.FREQ'] != \"0%\"]\n",
    "            # remove rows with no calls\n",
    "            snps[method][spp] = snps[method][spp][snps[method][spp]['JP_p101.FREQ'] == snps[method][spp]['JP_p101.FREQ']]\n",
    "            # fill in AF column\n",
    "            snps[method][spp]['AF'] = snps[method][spp]['JP_p101.FREQ'].str.replace(\"%\", \"\").astype(float)/100\n",
    "        elif method =='varscan' and spp == 'DF':\n",
    "            df = snps[method][spp]  # view, will changes go to snps['varscan']['DF']\n",
    "            # add in a \">\" so locus names match between gatk and varscan\n",
    "            df['CHROM'] = [f\">{chrom}\" for chrom in df['CHROM'].tolist()]\n",
    "            df['locus'] = [f\">{locus}\" for locus in df['locus'].tolist()]\n",
    "# note varscan will output AF=0 (fixed for REF), I'm leaving these in so we can compare AFs of these too"
   ]
  },
  {
   "cell_type": "code",
   "execution_count": 27,
   "metadata": {},
   "outputs": [
    {
     "name": "stdout",
     "output_type": "stream",
     "text": [
      "JP gatk 0.025 1.0\n",
      "DF gatk 0.025 1.0\n",
      "JP varscan 0.0001 1.0\n",
      "DF varscan 0.0039 1.0\n"
     ]
    }
   ],
   "source": [
    "# look at allele freqs\n",
    "for method in snps:\n",
    "    for spp,df in snps[method].items():\n",
    "        print(spp, method, min(df['AF']), max(df['AF']))"
   ]
  },
  {
   "cell_type": "code",
   "execution_count": 28,
   "metadata": {},
   "outputs": [
    {
     "name": "stdout",
     "output_type": "stream",
     "text": [
      "JP gatk (378713, 117)\n",
      "DF gatk (1527720, 117)\n",
      "JP varscan (3686528, 21)\n",
      "DF varscan (1601285, 21)\n"
     ]
    }
   ],
   "source": [
    "# look at num snps and cols\n",
    "for method in snps:\n",
    "    for spp,df in snps[method].items():\n",
    "        print(spp, method, df.shape)"
   ]
  },
  {
   "cell_type": "code",
   "execution_count": 29,
   "metadata": {},
   "outputs": [
    {
     "name": "stdout",
     "output_type": "stream",
     "text": [
      "gatk JP ['locus', 'unstitched_locus']\n",
      "gatk DF ['locus', 'unstitched_locus']\n",
      "varscan JP ['locus', 'unstitched_locus']\n",
      "varscan DF ['locus']\n"
     ]
    }
   ],
   "source": [
    "# make sure columns are there that I want\n",
    "for method in snps:\n",
    "    for spp,df in snps[method].items():\n",
    "        cols = [col for col in df.columns if 'locus' in col]\n",
    "        print(method, spp, cols)"
   ]
  },
  {
   "cell_type": "markdown",
   "metadata": {},
   "source": [
    "#### filter for intersecting loci"
   ]
  },
  {
   "cell_type": "code",
   "execution_count": 6,
   "metadata": {},
   "outputs": [],
   "source": [
    "def getlocuscol(df):\n",
    "    \"\"\"Determine which column contains the locus name.\"\"\"\n",
    "    return 'unstitched_locus' if 'unstitched_locus' in df else 'locus'"
   ]
  },
  {
   "cell_type": "code",
   "execution_count": 30,
   "metadata": {},
   "outputs": [
    {
     "name": "stdout",
     "output_type": "stream",
     "text": [
      "gatk JP unstitched_locus\n",
      "gatk DF unstitched_locus\n",
      "varscan JP unstitched_locus\n",
      "varscan DF locus\n"
     ]
    }
   ],
   "source": [
    "# get the list of loci\n",
    "methodloci = {}\n",
    "for method in snps:\n",
    "    for spp in snps[method]:\n",
    "        df = snps[method][spp]\n",
    "        locuscol = getlocuscol(df)\n",
    "        print(method, spp, locuscol)\n",
    "        if spp not in methodloci:\n",
    "            methodloci[spp] = []\n",
    "        methodloci[spp].append(df[locuscol].tolist())\n",
    "# for spp,lsts in methodloci.items():\n",
    "#     print(spp,len(lsts), type(lsts), type(lsts[0]), type(lsts[1]))"
   ]
  },
  {
   "cell_type": "code",
   "execution_count": 31,
   "metadata": {},
   "outputs": [
    {
     "data": {
      "text/plain": [
       "['>jcf7190000000231-59482',\n",
       " '>jcf7190000000231-108467',\n",
       " '>jcf7190000000275-99191',\n",
       " '>jcf7190000000290-96627',\n",
       " '>jcf7190000000366-177185']"
      ]
     },
     "execution_count": 31,
     "metadata": {},
     "output_type": "execute_result"
    }
   ],
   "source": [
    "methodloci['DF'][0][:5]"
   ]
  },
  {
   "cell_type": "code",
   "execution_count": 32,
   "metadata": {},
   "outputs": [
    {
     "data": {
      "text/plain": [
       "['>jcf7190000000000-77616',\n",
       " '>jcf7190000000000-77656',\n",
       " '>jcf7190000000000-77657',\n",
       " '>jcf7190000000000-77729',\n",
       " '>jcf7190000000000-77738']"
      ]
     },
     "execution_count": 32,
     "metadata": {},
     "output_type": "execute_result"
    }
   ],
   "source": [
    "methodloci['DF'][1][:5]"
   ]
  },
  {
   "cell_type": "code",
   "execution_count": 33,
   "metadata": {
    "scrolled": true
   },
   "outputs": [
    {
     "data": {
      "text/plain": [
       "['>super808-865131',\n",
       " '>super819-359621',\n",
       " '>super896-944540',\n",
       " '>super1256-476207',\n",
       " '>super1349-138470']"
      ]
     },
     "execution_count": 33,
     "metadata": {},
     "output_type": "execute_result"
    }
   ],
   "source": [
    "methodloci['JP'][0][:5]"
   ]
  },
  {
   "cell_type": "code",
   "execution_count": 34,
   "metadata": {},
   "outputs": [
    {
     "data": {
      "text/plain": [
       "['>super4-15421',\n",
       " '>super4-15496',\n",
       " '>super4-47156',\n",
       " '>super4-47333',\n",
       " '>super4-47395']"
      ]
     },
     "execution_count": 34,
     "metadata": {},
     "output_type": "execute_result"
    }
   ],
   "source": [
    "methodloci['JP'][1][:5]"
   ]
  },
  {
   "cell_type": "code",
   "execution_count": 35,
   "metadata": {},
   "outputs": [
    {
     "name": "stdout",
     "output_type": "stream",
     "text": [
      "JP 256950\n",
      "DF 637410\n"
     ]
    }
   ],
   "source": [
    "# get intersection\n",
    "# indexing assumes only two methods\n",
    "interloci = {}\n",
    "for spp in methodloci:\n",
    "    interloci[spp] = set(methodloci[spp][0]).intersection(methodloci[spp][1])\n",
    "    print(spp, len(interloci[spp]))"
   ]
  },
  {
   "cell_type": "code",
   "execution_count": 95,
   "metadata": {},
   "outputs": [
    {
     "name": "stdout",
     "output_type": "stream",
     "text": [
      "gatk JP 378713\n",
      "\t gatk JP 256950\n",
      "gatk DF 1527720\n",
      "\t gatk DF 637410\n",
      "varscan JP 3686528\n",
      "\t varscan JP 256950\n",
      "varscan DF 1601285\n",
      "\t varscan DF 637410\n"
     ]
    }
   ],
   "source": [
    "# reduce to intersection\n",
    "for method,spp in snps.items():\n",
    "    for sp,df in spp.items():\n",
    "        locuscol = getlocuscol(df)\n",
    "        print(method, sp, nrow(df))\n",
    "        snps[method][sp] = df[df[locuscol].isin(interloci[sp])].copy()\n",
    "        print('\\t', method, sp, nrow(snps[method][sp]))"
   ]
  },
  {
   "cell_type": "code",
   "execution_count": 96,
   "metadata": {},
   "outputs": [],
   "source": [
    "# save so I don't have to reload and refilter\n",
    "pklfile = op.join(firstdir, 'snps_dict_intersecting_loci.pkl')\n",
    "pkldump(snps, pklfile)"
   ]
  },
  {
   "cell_type": "code",
   "execution_count": 2,
   "metadata": {},
   "outputs": [],
   "source": [
    "# load data\n",
    "snps = pklload(op.join(firstdir, 'snps_dict_intersecting_loci.pkl'))"
   ]
  },
  {
   "cell_type": "code",
   "execution_count": null,
   "metadata": {},
   "outputs": [],
   "source": []
  },
  {
   "cell_type": "code",
   "execution_count": null,
   "metadata": {},
   "outputs": [],
   "source": [
    "# data after removing noREF snps is saved below as a pkl"
   ]
  },
  {
   "cell_type": "markdown",
   "metadata": {},
   "source": [
    " "
   ]
  },
  {
   "cell_type": "markdown",
   "metadata": {},
   "source": [
    " "
   ]
  },
  {
   "cell_type": "markdown",
   "metadata": {},
   "source": [
    " "
   ]
  },
  {
   "cell_type": "markdown",
   "metadata": {},
   "source": [
    " "
   ]
  },
  {
   "cell_type": "markdown",
   "metadata": {},
   "source": [
    " "
   ]
  },
  {
   "cell_type": "markdown",
   "metadata": {},
   "source": [
    "# before removing noREF SNPs, compare to varscan\n",
    "\n",
    "noREF SNPs are a biallelic SNPs that do not have the reference allele (from gatk pipeline). I'll eventually remove these, but curious what's happening at the same loci called with VarScan (that only would have called true biallelic SNPs).\n",
    "\n",
    "- first compare to noREF snps in the gatk table (later expand to all data before filtering)\n",
    "- plot relationship\n",
    "- redo VariantsToTable on each bedfile-produced vcf, look at effect across all data \n",
    "\n",
    "Conclusion: Even if VarScan does not call a site multiallelic that was called multiallelic by gatk, the estimated AF is still similar when considering the alt. In other words, even when GATK and VarScan disagree on the specific alleles, they agree (more or less) on AF."
   ]
  },
  {
   "cell_type": "markdown",
   "metadata": {},
   "source": [
    "#### first compare to noREF snps in the gatk table (later expand to all data before filtering)"
   ]
  },
  {
   "cell_type": "code",
   "execution_count": 4,
   "metadata": {},
   "outputs": [
    {
     "name": "stdout",
     "output_type": "stream",
     "text": [
      "gatk JP 1244\n",
      "gatk DF 1131\n",
      "varscan JP 0\n",
      "varscan DF 0\n"
     ]
    }
   ],
   "source": [
    "# make sure only gatk has noREF snps\n",
    "for method,spp in snps.items():\n",
    "    for sp,df in spp.items():\n",
    "        print(method, sp, sum(snps[method][sp]['ALT'].str.contains('+',regex=False)))"
   ]
  },
  {
   "cell_type": "code",
   "execution_count": 7,
   "metadata": {},
   "outputs": [
    {
     "name": "stdout",
     "output_type": "stream",
     "text": [
      "JP 1244\n",
      "DF 1131\n"
     ]
    }
   ],
   "source": [
    "# get noREF SNPs (ploci)\n",
    "ploci = {}\n",
    "for sp,df in snps['gatk'].items():\n",
    "    # get ploci from gatk\n",
    "    locuscol = getlocuscol(df)\n",
    "    ploci[sp] = df.loc[df['ALT'].str.contains('+', regex=False), locuscol].tolist()\n",
    "    # reduce to intersection with varscan\n",
    "    locuscol = getlocuscol(snps['varscan'][sp])\n",
    "    ploci[sp] = list(set(ploci[sp]).intersection(snps['varscan'][sp][locuscol].tolist()))\n",
    "    print(sp, len(ploci[sp]))"
   ]
  },
  {
   "cell_type": "code",
   "execution_count": 8,
   "metadata": {},
   "outputs": [
    {
     "name": "stdout",
     "output_type": "stream",
     "text": [
      "gatk JP 1244\n",
      "gatk DF 1131\n",
      "varscan JP 1244\n",
      "varscan DF 1131\n"
     ]
    }
   ],
   "source": [
    "# isolate ploci from each method/spp\n",
    "nrsnps = {}\n",
    "for method,spp in snps.items():\n",
    "    nrsnps[method] = {}\n",
    "    for sp,df in spp.items():\n",
    "        locuscol = getlocuscol(df)\n",
    "        nrsnps[method][sp] = df[df[locuscol].isin(ploci[sp])].copy()\n",
    "        nrsnps[method][sp].index = nrsnps[method][sp][locuscol].tolist()\n",
    "        print(method, sp, len(nrsnps[method][sp]))"
   ]
  },
  {
   "cell_type": "code",
   "execution_count": 9,
   "metadata": {},
   "outputs": [],
   "source": [
    "# match up alt alleles between gatk and varscan\n",
    "for sp,df in nrsnps['gatk'].items():\n",
    "    df['new_AF'] = df['AF']\n",
    "    locuscol = getlocuscol(df)\n",
    "    for locus in df[locuscol]:\n",
    "        alt = nrsnps['varscan'][sp].loc[locus, 'ALT']\n",
    "        if df.loc[locus, 'ALT'].split(\"+\")[1] != alt:\n",
    "            df.loc[locus, 'new_AF'] = 1 - df.loc[locus, 'AF']"
   ]
  },
  {
   "cell_type": "code",
   "execution_count": 10,
   "metadata": {},
   "outputs": [],
   "source": [
    "from scipy.stats import pearsonr"
   ]
  },
  {
   "cell_type": "markdown",
   "metadata": {},
   "source": [
    "##### plot relationship"
   ]
  },
  {
   "cell_type": "code",
   "execution_count": 11,
   "metadata": {},
   "outputs": [],
   "source": [
    "def makesweetgraph(x=None,y=None,cmap='jet',ylab=None,xlab=None,bins=100,save=False,saveloc='',sets=(None,None),figsize=(5,4),snsbins=60,title=None):\n",
    "    \"\"\"Make 2D histogram.\"\"\"\n",
    "    import seaborn as sns\n",
    "    from matplotlib.colors import LogNorm\n",
    "    set1,set2 = sets\n",
    "    ax1 = sns.jointplot(x=x, y=y,marginal_kws=dict(bins=snsbins))\n",
    "    ax1.fig.set_size_inches(figsize[0], figsize[1])\n",
    "    ax1.ax_joint.cla()\n",
    "    plt.sca(ax1.ax_joint)\n",
    "    plt.hist2d(x,y,bins,norm=LogNorm(),cmap=cmap)\n",
    "    if title is None:\n",
    "        plt.title('%s vs\\n%s\\n' % (xlab,ylab),y=1.2,x=0.6)\n",
    "    else:\n",
    "        plt.title(title,y=1.2,x=0.6)\n",
    "    plt.ylabel(ylab,fontsize=12)\n",
    "    plt.xlabel(xlab,fontsize=12)\n",
    "    cbar_ax = ax1.fig.add_axes([1, 0.1, .03, .7])\n",
    "    cb = plt.colorbar(cax=cbar_ax)\n",
    "    cb.set_label(r'$\\log_{10}$ density of points',fontsize=13)"
   ]
  },
  {
   "cell_type": "code",
   "execution_count": 128,
   "metadata": {
    "scrolled": false
   },
   "outputs": [
    {
     "name": "stdout",
     "output_type": "stream",
     "text": [
      "JP (0.8334385558107021, 3.36e-322)\n",
      "DF (0.8678774163267831, 0.0)\n"
     ]
    },
    {
     "data": {
      "image/png": "[encoded data removed]",
      "text/plain": [
       "<Figure size 360x288 with 4 Axes>"
      ]
     },
     "metadata": {
      "needs_background": "light"
     },
     "output_type": "display_data"
    },
    {
     "data": {
      "image/png": "[encoded data removed]",
      "text/plain": [
       "<Figure size 360x288 with 4 Axes>"
      ]
     },
     "metadata": {
      "needs_background": "light"
     },
     "output_type": "display_data"
    }
   ],
   "source": [
    "# plot GATK noREF snps vs same sites detected in VarScan - show pretty good agreement\n",
    "for sp,df in nrsnps['gatk'].items():\n",
    "    freqcol = [col for col in snps['varscan'][sp] if 'FREQ' in col][0]\n",
    "    x = nrsnps['varscan'][sp][freqcol].str.replace(\"%\",\"\").astype(float)/100\n",
    "    y = df['new_AF']\n",
    "    print(sp, pearsonr(x,y))\n",
    "    makesweetgraph(x, y,\n",
    "                   title='species = %s\\nsites called multiallelic by GATK but not varscan' % sp,\n",
    "                   xlab='varscan ALT frequency - biallelic sites',\n",
    "                   ylab='gatk frequency of varscan ALT allele')"
   ]
  },
  {
   "cell_type": "code",
   "execution_count": 153,
   "metadata": {},
   "outputs": [],
   "source": [
    "def getafcol(df):\n",
    "    \"\"\"Determine which Allele Frequency column to use.\"\"\"\n",
    "    return 'new_AF' if 'new_AF' in df.columns else 'AF'"
   ]
  },
  {
   "cell_type": "code",
   "execution_count": 145,
   "metadata": {},
   "outputs": [
    {
     "name": "stdout",
     "output_type": "stream",
     "text": [
      "JP gatk 22244 8.66%\n",
      "DF gatk 25680 4.03%\n",
      "JP varscan 21178 8.24%\n",
      "DF varscan 30832 4.84%\n"
     ]
    }
   ],
   "source": [
    "# how many are fixed in either method\n",
    "for method,spp in snps.items():\n",
    "    for sp,df in spp.items():\n",
    "        afcol = getafcol(df)\n",
    "        print(sp, method, sum(df[afcol]==1), \"%s%%\" % round(sum((df[afcol]==1)/nrow(df))*100,2))"
   ]
  },
  {
   "cell_type": "code",
   "execution_count": 146,
   "metadata": {},
   "outputs": [
    {
     "name": "stdout",
     "output_type": "stream",
     "text": [
      "gatk JP 256950\n",
      "gatk DF 637410\n",
      "varscan JP 256950\n",
      "varscan DF 637410\n"
     ]
    }
   ],
   "source": [
    "# print numer of snps in each dataset\n",
    "for method,spp in snps.items():\n",
    "    for sp,df in spp.items():\n",
    "        print(method, sp, nrow(snps[method][sp]))"
   ]
  },
  {
   "cell_type": "markdown",
   "metadata": {},
   "source": [
    "#### remove noREF snps from analyses"
   ]
  },
  {
   "cell_type": "code",
   "execution_count": 151,
   "metadata": {},
   "outputs": [
    {
     "name": "stdout",
     "output_type": "stream",
     "text": [
      "gatk JP 255706\n",
      "gatk DF 636279\n",
      "varscan JP 255706\n",
      "varscan DF 636279\n"
     ]
    }
   ],
   "source": [
    "# remove noREF snps from analyses\n",
    "for method,spp in snps.items():\n",
    "    for sp,df in spp.items():\n",
    "        locuscol = getlocuscol(df)\n",
    "        snps[method][sp] = df[~df[locuscol].isin(ploci[sp])].copy()\n",
    "        print(method, sp, nrow(snps[method][sp]))"
   ]
  },
  {
   "cell_type": "code",
   "execution_count": 152,
   "metadata": {},
   "outputs": [],
   "source": [
    "# save datasets without noREF SNPs as pkls\n",
    "norefpkl = op.join(firstdir, 'snps_dict_intersecting_no-noREFloci.pkl')\n",
    "pkldump(snps, norefpkl)"
   ]
  },
  {
   "cell_type": "code",
   "execution_count": 1,
   "metadata": {},
   "outputs": [
    {
     "data": {
      "text/plain": [
       "['/data/home/lindb/methods_paper_analysis/001_testdata_explore/snps_dict_intersecting_loci.pkl',\n",
       " '/data/home/lindb/methods_paper_analysis/001_testdata_explore/snps_dict_intersecting_noREFloci.pkl']"
      ]
     },
     "execution_count": 1,
     "metadata": {},
     "output_type": "execute_result"
    }
   ],
   "source": [
    "# make sure they're there\n",
    "fs(firstdirs)"
   ]
  },
  {
   "cell_type": "code",
   "execution_count": 4,
   "metadata": {},
   "outputs": [
    {
     "name": "stdout",
     "output_type": "stream",
     "text": [
      "gatk JP (255706, 117)\n",
      "gatk DF (636279, 117)\n",
      "varscan JP (255706, 21)\n",
      "varscan DF (636279, 21)\n"
     ]
    }
   ],
   "source": [
    "# read back in the data\n",
    "snps = pklload(op.join(firstdir, 'snps_dict_intersecting_no-noREFloci.pkl'))\n",
    "for method,spp in snps.items():\n",
    "    for sp,df in spp.items():\n",
    "        print(method, sp, df.shape)"
   ]
  },
  {
   "cell_type": "markdown",
   "metadata": {},
   "source": [
    "#### it looks like adjusting freqs makes things bad, let's see across all bedfiles"
   ]
  },
  {
   "cell_type": "code",
   "execution_count": 1,
   "metadata": {},
   "outputs": [],
   "source": [
    "from pythonimports import *"
   ]
  },
  {
   "cell_type": "code",
   "execution_count": 2,
   "metadata": {},
   "outputs": [
    {
     "name": "stdout",
     "output_type": "stream",
     "text": [
      "20 20\n"
     ]
    }
   ],
   "source": [
    "# load engines\n",
    "lview,dview = get_client()"
   ]
  },
  {
   "cell_type": "code",
   "execution_count": 3,
   "metadata": {},
   "outputs": [],
   "source": [
    "def unzip(f):\n",
    "    \"\"\"gunzip to make reading vcf easier.\"\"\"\n",
    "    import os\n",
    "    import shutil\n",
    "    import subprocess\n",
    "    if os.path.exists(f):\n",
    "        os.chdir(os.path.dirname(f))\n",
    "        gunzip = shutil.which('gunzip')\n",
    "        output = subprocess.check_output([gunzip, '--force', f]).decode('utf-8').replace(\"\\n\", \"\").split()\n",
    "    return f"
   ]
  },
  {
   "cell_type": "code",
   "execution_count": 8,
   "metadata": {},
   "outputs": [
    {
     "data": {
      "text/plain": [
       "29"
      ]
     },
     "execution_count": 8,
     "metadata": {},
     "output_type": "execute_result"
    }
   ],
   "source": [
    "files = fs('/data/projects/pool_seq/non-pangenome/varscan_pooled/JP_pooled/snpsANDindels/raw_vcfs_and_tables',\n",
    "           endswith='.gz')\n",
    "len(files)"
   ]
  },
  {
   "cell_type": "code",
   "execution_count": 9,
   "metadata": {},
   "outputs": [
    {
     "name": "stdout",
     "output_type": "stream",
     "text": [
      "29\n",
      "29\n"
     ]
    }
   ],
   "source": [
    "# unzip files in parallel\n",
    "jobs = make_jobs(files, unzip, lview)\n",
    "watch_async(jobs)"
   ]
  },
  {
   "cell_type": "code",
   "execution_count": 4,
   "metadata": {},
   "outputs": [],
   "source": [
    "def bgzip(f):\n",
    "    \"\"\"bgzip file f.\"\"\"\n",
    "    import os\n",
    "    import shutil\n",
    "    if os.path.exists(f):\n",
    "        os.chdir(os.path.dirname(f))\n",
    "        bgzip = shutil.which('bgzip')\n",
    "        os.system(f'{bgzip} --force {f}')\n",
    "    return f\n",
    "dview['bgzip'] = bgzip\n",
    "\n",
    "def create_table(f):\n",
    "    \"\"\"Create VariantsToTable.txt file from vcf.\"\"\"\n",
    "    import os\n",
    "    import subprocess\n",
    "    newf = f.replace('raw_vcfs_and_tables', 'test').replace('.vcf','_table.txt')\n",
    "    gatk = '/data/programs/gatk-4.1.0.0/gatk'\n",
    "    cmd = f'''{gatk} VariantsToTable \\\n",
    "--variant {f} \\\n",
    "-F CHROM -F POS -F REF -F ALT -F AF -F QUAL -F TYPE -F FILTER -F ADP -F WT -F HET -F HOM -F NC -GF GT -GF GQ \\\n",
    "-GF SDP -GF DP -GF FREQ -GF PVAL -GF AD -GF RD \\\n",
    "-O {newf} \\\n",
    "--split-multi-allelic'''\n",
    "    print(cmd)\n",
    "    output = subprocess.check_output(cmd.split()).decode('utf-8').replace(\"\\n\", \"\").split()[-1]\n",
    "    if os.path.exists(newf):\n",
    "        f = bgzip(f)\n",
    "    return newf,output"
   ]
  },
  {
   "cell_type": "code",
   "execution_count": 5,
   "metadata": {},
   "outputs": [
    {
     "data": {
      "text/plain": [
       "1101"
      ]
     },
     "execution_count": 5,
     "metadata": {},
     "output_type": "execute_result"
    }
   ],
   "source": [
    "files = fs('/data/projects/pool_seq/non-pangenome/varscan_pooled/JP_pooled/snpsANDindels/raw_vcfs_and_tables',\n",
    "          endswith='.vcf')\n",
    "len(files)"
   ]
  },
  {
   "cell_type": "code",
   "execution_count": 10,
   "metadata": {},
   "outputs": [
    {
     "name": "stdout",
     "output_type": "stream",
     "text": [
      "764\n",
      "1101\n"
     ]
    },
    {
     "ename": "KeyboardInterrupt",
     "evalue": "",
     "output_type": "error",
     "traceback": [
      "\u001b[0;31m---------------------------------------------------------------------------\u001b[0m",
      "\u001b[0;31mKeyboardInterrupt\u001b[0m                         Traceback (most recent call last)",
      "\u001b[0;32m<ipython-input-10-7880b58460e5>\u001b[0m in \u001b[0;36m<module>\u001b[0;34m\u001b[0m\n\u001b[1;32m      1\u001b[0m \u001b[0;31m# jobs2 = make_jobs(files, create_table, lview)\u001b[0m\u001b[0;34m\u001b[0m\u001b[0;34m\u001b[0m\u001b[0;34m\u001b[0m\u001b[0m\n\u001b[0;32m----> 2\u001b[0;31m \u001b[0mwatch_async\u001b[0m\u001b[0;34m(\u001b[0m\u001b[0mjobs2\u001b[0m\u001b[0;34m)\u001b[0m\u001b[0;34m\u001b[0m\u001b[0;34m\u001b[0m\u001b[0m\n\u001b[0m",
      "\u001b[0;32m~/mypy/pythonimports/pythonimports.py\u001b[0m in \u001b[0;36mwatch_async\u001b[0;34m(jobs, phase)\u001b[0m\n\u001b[1;32m    298\u001b[0m     \u001b[0mcount\u001b[0m \u001b[0;34m=\u001b[0m \u001b[0;36m0\u001b[0m\u001b[0;34m\u001b[0m\u001b[0;34m\u001b[0m\u001b[0m\n\u001b[1;32m    299\u001b[0m     \u001b[0;32mwhile\u001b[0m \u001b[0mcount\u001b[0m \u001b[0;34m!=\u001b[0m \u001b[0mlen\u001b[0m\u001b[0;34m(\u001b[0m\u001b[0mjobs\u001b[0m\u001b[0;34m)\u001b[0m\u001b[0;34m:\u001b[0m\u001b[0;34m\u001b[0m\u001b[0;34m\u001b[0m\u001b[0m\n\u001b[0;32m--> 300\u001b[0;31m         \u001b[0mtime\u001b[0m\u001b[0;34m.\u001b[0m\u001b[0msleep\u001b[0m\u001b[0;34m(\u001b[0m\u001b[0;36m5\u001b[0m\u001b[0;34m)\u001b[0m\u001b[0;34m\u001b[0m\u001b[0;34m\u001b[0m\u001b[0m\n\u001b[0m\u001b[1;32m    301\u001b[0m         \u001b[0mcount\u001b[0m \u001b[0;34m=\u001b[0m \u001b[0;36m0\u001b[0m\u001b[0;34m\u001b[0m\u001b[0;34m\u001b[0m\u001b[0m\n\u001b[1;32m    302\u001b[0m         \u001b[0;32mfor\u001b[0m \u001b[0mj\u001b[0m \u001b[0;32min\u001b[0m \u001b[0mjobs\u001b[0m\u001b[0;34m:\u001b[0m\u001b[0;34m\u001b[0m\u001b[0;34m\u001b[0m\u001b[0m\n",
      "\u001b[0;31mKeyboardInterrupt\u001b[0m: "
     ]
    }
   ],
   "source": [
    "jobs2 = make_jobs(files, create_table, lview)\n",
    "watch_async(jobs2)"
   ]
  },
  {
   "cell_type": "markdown",
   "metadata": {},
   "source": [
    "#### not all jobs finished (764/1101), but let's see what we get"
   ]
  },
  {
   "cell_type": "code",
   "execution_count": 20,
   "metadata": {},
   "outputs": [
    {
     "name": "stdout",
     "output_type": "stream",
     "text": [
      "56 56\n"
     ]
    }
   ],
   "source": [
    "# reset engines\n",
    "lview,dview = get_client()"
   ]
  },
  {
   "cell_type": "code",
   "execution_count": 25,
   "metadata": {},
   "outputs": [],
   "source": [
    "def getdf(f):\n",
    "    \"\"\"Read in VariantsToTable output, create a 'locus' column.\"\"\"\n",
    "    import pandas\n",
    "    \n",
    "    dfs = []\n",
    "    for df in pandas.read_table(f, chunksize=10000):\n",
    "        df['locus'] = [\"%s-%s\" % (chrom,pos) for (chrom,pos) in zip(df['CHROM'],df['POS'])]\n",
    "        df.index = df['locus'].tolist()\n",
    "        df = df[df.index.isin(varscanloci)].copy()\n",
    "        dfs.append(df)\n",
    "        \n",
    "    return pandas.concat(dfs)\n",
    "dview['varscanloci'] = snps['varscan']['JP']['locus'].tolist()"
   ]
  },
  {
   "cell_type": "code",
   "execution_count": 22,
   "metadata": {},
   "outputs": [
    {
     "data": {
      "text/plain": [
       "787"
      ]
     },
     "execution_count": 22,
     "metadata": {},
     "output_type": "execute_result"
    }
   ],
   "source": [
    "# get the VariantsToTable output files that finished\n",
    "files = fs('/data/projects/pool_seq/non-pangenome/varscan_pooled/JP_pooled/snpsANDindels/test', endswith='.txt')\n",
    "len(files)"
   ]
  },
  {
   "cell_type": "code",
   "execution_count": 28,
   "metadata": {},
   "outputs": [
    {
     "name": "stdout",
     "output_type": "stream",
     "text": [
      "787\n",
      "787\n"
     ]
    }
   ],
   "source": [
    "# read in VariantsToTable outputs in parallel\n",
    "jobs = make_jobs(files, getdf, lview)\n",
    "watch_async(jobs)"
   ]
  },
  {
   "cell_type": "code",
   "execution_count": 42,
   "metadata": {},
   "outputs": [
    {
     "name": "stdout",
     "output_type": "stream",
     "text": [
      "renaming varscan columns ...\n"
     ]
    },
    {
     "data": {
      "text/plain": [
       "(228278, 334)"
      ]
     },
     "execution_count": 42,
     "metadata": {},
     "output_type": "execute_result"
    }
   ],
   "source": [
    "# get the returns, convert column names\n",
    "varscandata = pd.concat([j.r for j in jobs])\n",
    "varscandata = get_varscan_names(varscandata,\n",
    "                                '/data/projects/pool_seq/non-pangenome/varscan_pooled/JP_pooled/poolsamps.pkl',\n",
    "                                'JP_pooled')\n",
    "varscandata.shape"
   ]
  },
  {
   "cell_type": "code",
   "execution_count": 43,
   "metadata": {},
   "outputs": [
    {
     "data": {
      "text/plain": [
       "228278"
      ]
     },
     "execution_count": 43,
     "metadata": {},
     "output_type": "execute_result"
    }
   ],
   "source": [
    "# check to make sure all loci coming out are also in gatk\n",
    "len(set(varscandata['locus'].tolist()).intersection(snps['gatk']['JP']['locus'].tolist()))"
   ]
  },
  {
   "cell_type": "markdown",
   "metadata": {},
   "source": [
    "#### what does correlation look with raw intersection? (after adjusting noREF snp freq in gatk)"
   ]
  },
  {
   "cell_type": "code",
   "execution_count": 47,
   "metadata": {},
   "outputs": [],
   "source": [
    "from scipy.stats import pearsonr"
   ]
  },
  {
   "cell_type": "code",
   "execution_count": 52,
   "metadata": {},
   "outputs": [],
   "source": [
    "# copy dataframe to easy-named object \"gatk\"\n",
    "snps['gatk']['JP'].index = snps['gatk']['JP']['locus'].tolist()\n",
    "gatk = snps['gatk']['JP'].copy()"
   ]
  },
  {
   "cell_type": "code",
   "execution_count": 156,
   "metadata": {
    "scrolled": true
   },
   "outputs": [
    {
     "data": {
      "text/plain": [
       "((228278, 334), (228278, 114))"
      ]
     },
     "execution_count": 156,
     "metadata": {},
     "output_type": "execute_result"
    }
   ],
   "source": [
    "# copy dataframe to easy-named object \"vdata\"\n",
    "vdata = varscandata[varscandata.index.isin(gatk.index.tolist())].copy()\n",
    "vdata.shape, gatk.shape"
   ]
  },
  {
   "cell_type": "code",
   "execution_count": 60,
   "metadata": {},
   "outputs": [],
   "source": [
    "# reduce gatk data to the SNPs in the VarScan data\n",
    "gatk = gatk[gatk.index.isin(vdata.index)].copy()"
   ]
  },
  {
   "cell_type": "code",
   "execution_count": 62,
   "metadata": {},
   "outputs": [
    {
     "data": {
      "text/plain": [
       "(228278, 114)"
      ]
     },
     "execution_count": 62,
     "metadata": {},
     "output_type": "execute_result"
    }
   ],
   "source": [
    "# rows, cols\n",
    "gatk.shape"
   ]
  },
  {
   "cell_type": "code",
   "execution_count": 157,
   "metadata": {},
   "outputs": [],
   "source": [
    "# reorient the VarScan data in the same order as the GATK data\n",
    "vdata = vdata.loc[gatk.index, :].copy()"
   ]
  },
  {
   "cell_type": "code",
   "execution_count": 263,
   "metadata": {},
   "outputs": [],
   "source": [
    "# adjust freq in GATK\n",
    "gatk.loc[gatk['ALT'].str.contains(\"+\",regex=False), 'AF'] = 1 - gatk.loc[gatk['ALT'].str.contains(\"+\",regex=False), 'AF']"
   ]
  },
  {
   "cell_type": "code",
   "execution_count": 264,
   "metadata": {},
   "outputs": [
    {
     "data": {
      "text/plain": [
       "(0.9761389392068591, 0.0)"
      ]
     },
     "execution_count": 264,
     "metadata": {},
     "output_type": "execute_result"
    }
   ],
   "source": [
    "# what is the correlation of the data\n",
    "pearsonr(vdata['JP_p101.FREQ'].str.replace(\"%\",\"\").astype(float)/100, gatk['AF'])"
   ]
  },
  {
   "cell_type": "code",
   "execution_count": 265,
   "metadata": {},
   "outputs": [
    {
     "data": {
      "image/png": "[encoded data removed]",
      "text/plain": [
       "<Figure size 360x288 with 4 Axes>"
      ]
     },
     "metadata": {
      "needs_background": "light"
     },
     "output_type": "display_data"
    }
   ],
   "source": [
    "# plot the data - bottom right isn't weird, just needs an adjustment (1-AF)\n",
    "makesweetgraph(vdata['JP_p101.FREQ'].str.replace(\"%\",\"\").astype(float)/100, gatk['AF'],\n",
    "              xlab='varscan', ylab='gatk', title=\"total data, no adjustment/filtering\")"
   ]
  },
  {
   "cell_type": "markdown",
   "metadata": {},
   "source": [
    "#### what if we adjust FREQ so denominator = AD + RD?  \n",
    "#### A: decreases correlation"
   ]
  },
  {
   "cell_type": "code",
   "execution_count": 266,
   "metadata": {
    "scrolled": true
   },
   "outputs": [
    {
     "data": {
      "text/plain": [
       "(0.9754240960429793, 0.0)"
      ]
     },
     "execution_count": 266,
     "metadata": {},
     "output_type": "execute_result"
    }
   ],
   "source": [
    "# adjust VarScan FREQ by dividing AD / (AD + RD) - instead of AD / DP\n",
    "vdata['JP_p101_new.FREQ'] = vdata['JP_p101.AD'] / (vdata['JP_p101.AD'] + vdata['JP_p101.RD'])\n",
    "pearsonr(vdata['JP_p101_new.FREQ'], gatk['AF'])"
   ]
  },
  {
   "cell_type": "code",
   "execution_count": 267,
   "metadata": {},
   "outputs": [
    {
     "data": {
      "image/png": "[encoded data removed]",
      "text/plain": [
       "<Figure size 360x288 with 4 Axes>"
      ]
     },
     "metadata": {
      "needs_background": "light"
     },
     "output_type": "display_data"
    }
   ],
   "source": [
    "# the bottom right now are closer to 1.0 frequency\n",
    "makesweetgraph(vdata['JP_p101_new.FREQ'], gatk['AF'],\n",
    "              xlab='varscan', ylab='gatk', title='total data, depth-adjusted, no filtering')"
   ]
  },
  {
   "cell_type": "code",
   "execution_count": 268,
   "metadata": {},
   "outputs": [
    {
     "data": {
      "text/plain": [
       "(228278, 335)"
      ]
     },
     "execution_count": 268,
     "metadata": {},
     "output_type": "execute_result"
    }
   ],
   "source": [
    "vdata.shape"
   ]
  },
  {
   "cell_type": "markdown",
   "metadata": {},
   "source": [
    "#### what are the SNPs in the bottom right of unadjusted (\"total data, no adjustment/filtering\" figure)?"
   ]
  },
  {
   "cell_type": "code",
   "execution_count": 269,
   "metadata": {},
   "outputs": [
    {
     "data": {
      "text/plain": [
       "121"
      ]
     },
     "execution_count": 269,
     "metadata": {},
     "output_type": "execute_result"
    }
   ],
   "source": [
    "# try and isolate the bottom-right loci by figure coordinates\n",
    "weird_var = vdata[(vdata['JP_p101.FREQ'].str.replace(\"%\",\"\").astype(float) / 100) >0.7].copy()  # x-axis\n",
    "# weird_var = vdata.copy()\n",
    "weird_gatk = gatk[gatk['AF']<0.4].copy()  # y-axis\n",
    "interloci = set(weird_var.index).intersection(weird_gatk.index)\n",
    "len(interloci)"
   ]
  },
  {
   "cell_type": "code",
   "execution_count": 270,
   "metadata": {},
   "outputs": [
    {
     "data": {
      "text/plain": [
       "((121, 335), (121, 114))"
      ]
     },
     "execution_count": 270,
     "metadata": {},
     "output_type": "execute_result"
    }
   ],
   "source": [
    "# get small dataframes with the weird loci\n",
    "weird_var = weird_var[weird_var.index.isin(interloci)].copy()\n",
    "weird_gatk = weird_gatk[weird_gatk.index.isin(interloci)].copy()\n",
    "weird_var.shape, weird_gatk.shape"
   ]
  },
  {
   "cell_type": "code",
   "execution_count": 271,
   "metadata": {},
   "outputs": [
    {
     "data": {
      "image/png": "[encoded data removed]",
      "text/plain": [
       "<Figure size 360x288 with 4 Axes>"
      ]
     },
     "metadata": {
      "needs_background": "light"
     },
     "output_type": "display_data"
    }
   ],
   "source": [
    "makesweetgraph(weird_var['JP_p101.FREQ'].str.replace(\"%\",\"\").astype(float)/100, weird_gatk['AF'],\n",
    "              xlab='varscan', ylab='gatk')"
   ]
  },
  {
   "cell_type": "code",
   "execution_count": 274,
   "metadata": {},
   "outputs": [
    {
     "data": {
      "text/plain": [
       "(0.45617819641637225, 1.4531689901704265e-07)"
      ]
     },
     "execution_count": 274,
     "metadata": {},
     "output_type": "execute_result"
    }
   ],
   "source": [
    "pearsonr(1-weird_var['JP_p101.FREQ'].str.replace(\"%\",\"\").astype(float)/100, weird_gatk['AF'])"
   ]
  },
  {
   "cell_type": "code",
   "execution_count": 275,
   "metadata": {},
   "outputs": [
    {
     "data": {
      "image/png": "[encoded data removed]",
      "text/plain": [
       "<Figure size 360x288 with 4 Axes>"
      ]
     },
     "metadata": {
      "needs_background": "light"
     },
     "output_type": "display_data"
    }
   ],
   "source": [
    "makesweetgraph(1-weird_var['JP_p101.FREQ'].str.replace(\"%\",\"\").astype(float)/100, weird_gatk['AF'],\n",
    "              xlab='varscan', ylab='gatk')"
   ]
  },
  {
   "cell_type": "code",
   "execution_count": 277,
   "metadata": {
    "collapsed": true
   },
   "outputs": [
    {
     "data": {
      "text/html": [
       "<div>\n",
       "<style scoped>\n",
       "    .dataframe tbody tr th:only-of-type {\n",
       "        vertical-align: middle;\n",
       "    }\n",
       "\n",
       "    .dataframe tbody tr th {\n",
       "        vertical-align: top;\n",
       "    }\n",
       "\n",
       "    .dataframe thead th {\n",
       "        text-align: right;\n",
       "    }\n",
       "</style>\n",
       "<table border=\"1\" class=\"dataframe\">\n",
       "  <thead>\n",
       "    <tr style=\"text-align: right;\">\n",
       "      <th></th>\n",
       "      <th>CHROM</th>\n",
       "      <th>POS</th>\n",
       "      <th>REF</th>\n",
       "      <th>ALT</th>\n",
       "      <th>AF</th>\n",
       "      <th>QUAL</th>\n",
       "      <th>TYPE</th>\n",
       "      <th>FILTER</th>\n",
       "      <th>ADP</th>\n",
       "      <th>WT</th>\n",
       "      <th>HET</th>\n",
       "      <th>HOM</th>\n",
       "      <th>NC</th>\n",
       "      <th>locus</th>\n",
       "      <th>JP_p101.GT</th>\n",
       "      <th>JP_p101.GQ</th>\n",
       "      <th>JP_p101.SDP</th>\n",
       "      <th>JP_p101.DP</th>\n",
       "      <th>JP_p101.FREQ</th>\n",
       "      <th>JP_p101.PVAL</th>\n",
       "      <th>JP_p101.AD</th>\n",
       "      <th>JP_p101.RD</th>\n",
       "      <th>JP_p101_new.FREQ</th>\n",
       "    </tr>\n",
       "  </thead>\n",
       "  <tbody>\n",
       "    <tr>\n",
       "      <th>Scaffold_35-476207</th>\n",
       "      <td>Scaffold_35</td>\n",
       "      <td>476207</td>\n",
       "      <td>T</td>\n",
       "      <td>G</td>\n",
       "      <td>NaN</td>\n",
       "      <td>-10.0</td>\n",
       "      <td>SNP</td>\n",
       "      <td>PASS</td>\n",
       "      <td>93</td>\n",
       "      <td>0</td>\n",
       "      <td>21</td>\n",
       "      <td>19</td>\n",
       "      <td>0</td>\n",
       "      <td>Scaffold_35-476207</td>\n",
       "      <td>T/G</td>\n",
       "      <td>254.0</td>\n",
       "      <td>59</td>\n",
       "      <td>59.0</td>\n",
       "      <td>74.58%</td>\n",
       "      <td>3.809700e-26</td>\n",
       "      <td>44.0</td>\n",
       "      <td>0.0</td>\n",
       "      <td>1.000000</td>\n",
       "    </tr>\n",
       "    <tr>\n",
       "      <th>Scaffold_151-668199</th>\n",
       "      <td>Scaffold_151</td>\n",
       "      <td>668199</td>\n",
       "      <td>T</td>\n",
       "      <td>A</td>\n",
       "      <td>NaN</td>\n",
       "      <td>-10.0</td>\n",
       "      <td>SNP</td>\n",
       "      <td>PASS</td>\n",
       "      <td>121</td>\n",
       "      <td>0</td>\n",
       "      <td>0</td>\n",
       "      <td>40</td>\n",
       "      <td>0</td>\n",
       "      <td>Scaffold_151-668199</td>\n",
       "      <td>A/A</td>\n",
       "      <td>255.0</td>\n",
       "      <td>73</td>\n",
       "      <td>73.0</td>\n",
       "      <td>97.26%</td>\n",
       "      <td>2.683500e-42</td>\n",
       "      <td>71.0</td>\n",
       "      <td>0.0</td>\n",
       "      <td>1.000000</td>\n",
       "    </tr>\n",
       "    <tr>\n",
       "      <th>Scaffold_154-4551691</th>\n",
       "      <td>Scaffold_154</td>\n",
       "      <td>4551691</td>\n",
       "      <td>C</td>\n",
       "      <td>T</td>\n",
       "      <td>NaN</td>\n",
       "      <td>-10.0</td>\n",
       "      <td>SNP</td>\n",
       "      <td>PASS</td>\n",
       "      <td>86</td>\n",
       "      <td>0</td>\n",
       "      <td>4</td>\n",
       "      <td>36</td>\n",
       "      <td>0</td>\n",
       "      <td>Scaffold_154-4551691</td>\n",
       "      <td>T/T</td>\n",
       "      <td>255.0</td>\n",
       "      <td>63</td>\n",
       "      <td>63.0</td>\n",
       "      <td>96.83%</td>\n",
       "      <td>2.609000e-36</td>\n",
       "      <td>61.0</td>\n",
       "      <td>0.0</td>\n",
       "      <td>1.000000</td>\n",
       "    </tr>\n",
       "    <tr>\n",
       "      <th>Scaffold_155-126984</th>\n",
       "      <td>Scaffold_155</td>\n",
       "      <td>126984</td>\n",
       "      <td>C</td>\n",
       "      <td>T</td>\n",
       "      <td>NaN</td>\n",
       "      <td>-10.0</td>\n",
       "      <td>SNP</td>\n",
       "      <td>PASS</td>\n",
       "      <td>127</td>\n",
       "      <td>0</td>\n",
       "      <td>34</td>\n",
       "      <td>6</td>\n",
       "      <td>0</td>\n",
       "      <td>Scaffold_155-126984</td>\n",
       "      <td>C/T</td>\n",
       "      <td>255.0</td>\n",
       "      <td>80</td>\n",
       "      <td>80.0</td>\n",
       "      <td>78.75%</td>\n",
       "      <td>1.657000e-37</td>\n",
       "      <td>63.0</td>\n",
       "      <td>0.0</td>\n",
       "      <td>1.000000</td>\n",
       "    </tr>\n",
       "    <tr>\n",
       "      <th>Scaffold_167-1649702</th>\n",
       "      <td>Scaffold_167</td>\n",
       "      <td>1649702</td>\n",
       "      <td>A</td>\n",
       "      <td>G</td>\n",
       "      <td>NaN</td>\n",
       "      <td>-10.0</td>\n",
       "      <td>SNP</td>\n",
       "      <td>PASS</td>\n",
       "      <td>100</td>\n",
       "      <td>0</td>\n",
       "      <td>3</td>\n",
       "      <td>37</td>\n",
       "      <td>0</td>\n",
       "      <td>Scaffold_167-1649702</td>\n",
       "      <td>G/G</td>\n",
       "      <td>255.0</td>\n",
       "      <td>69</td>\n",
       "      <td>69.0</td>\n",
       "      <td>88.41%</td>\n",
       "      <td>2.000100e-33</td>\n",
       "      <td>61.0</td>\n",
       "      <td>3.0</td>\n",
       "      <td>0.953125</td>\n",
       "    </tr>\n",
       "    <tr>\n",
       "      <th>...</th>\n",
       "      <td>...</td>\n",
       "      <td>...</td>\n",
       "      <td>...</td>\n",
       "      <td>...</td>\n",
       "      <td>...</td>\n",
       "      <td>...</td>\n",
       "      <td>...</td>\n",
       "      <td>...</td>\n",
       "      <td>...</td>\n",
       "      <td>...</td>\n",
       "      <td>...</td>\n",
       "      <td>...</td>\n",
       "      <td>...</td>\n",
       "      <td>...</td>\n",
       "      <td>...</td>\n",
       "      <td>...</td>\n",
       "      <td>...</td>\n",
       "      <td>...</td>\n",
       "      <td>...</td>\n",
       "      <td>...</td>\n",
       "      <td>...</td>\n",
       "      <td>...</td>\n",
       "      <td>...</td>\n",
       "    </tr>\n",
       "    <tr>\n",
       "      <th>Scaffold_4937-1236986</th>\n",
       "      <td>Scaffold_4937</td>\n",
       "      <td>1236986</td>\n",
       "      <td>A</td>\n",
       "      <td>G</td>\n",
       "      <td>NaN</td>\n",
       "      <td>-10.0</td>\n",
       "      <td>SNP</td>\n",
       "      <td>PASS</td>\n",
       "      <td>107</td>\n",
       "      <td>0</td>\n",
       "      <td>4</td>\n",
       "      <td>36</td>\n",
       "      <td>0</td>\n",
       "      <td>Scaffold_4937-1236986</td>\n",
       "      <td>G/G</td>\n",
       "      <td>255.0</td>\n",
       "      <td>94</td>\n",
       "      <td>94.0</td>\n",
       "      <td>90.36%</td>\n",
       "      <td>1.469400e-38</td>\n",
       "      <td>75.0</td>\n",
       "      <td>8.0</td>\n",
       "      <td>0.903614</td>\n",
       "    </tr>\n",
       "    <tr>\n",
       "      <th>Scaffold_4937-1236999</th>\n",
       "      <td>Scaffold_4937</td>\n",
       "      <td>1236999</td>\n",
       "      <td>C</td>\n",
       "      <td>T</td>\n",
       "      <td>NaN</td>\n",
       "      <td>-10.0</td>\n",
       "      <td>SNP</td>\n",
       "      <td>PASS</td>\n",
       "      <td>126</td>\n",
       "      <td>0</td>\n",
       "      <td>0</td>\n",
       "      <td>40</td>\n",
       "      <td>0</td>\n",
       "      <td>Scaffold_4937-1236999</td>\n",
       "      <td>T/T</td>\n",
       "      <td>255.0</td>\n",
       "      <td>117</td>\n",
       "      <td>117.0</td>\n",
       "      <td>100%</td>\n",
       "      <td>6.952000e-70</td>\n",
       "      <td>117.0</td>\n",
       "      <td>0.0</td>\n",
       "      <td>1.000000</td>\n",
       "    </tr>\n",
       "    <tr>\n",
       "      <th>Scaffold_5839-74825</th>\n",
       "      <td>Scaffold_5839</td>\n",
       "      <td>74825</td>\n",
       "      <td>G</td>\n",
       "      <td>A</td>\n",
       "      <td>NaN</td>\n",
       "      <td>-10.0</td>\n",
       "      <td>SNP</td>\n",
       "      <td>PASS</td>\n",
       "      <td>176</td>\n",
       "      <td>0</td>\n",
       "      <td>13</td>\n",
       "      <td>27</td>\n",
       "      <td>0</td>\n",
       "      <td>Scaffold_5839-74825</td>\n",
       "      <td>A/A</td>\n",
       "      <td>255.0</td>\n",
       "      <td>85</td>\n",
       "      <td>85.0</td>\n",
       "      <td>83.53%</td>\n",
       "      <td>4.155400e-34</td>\n",
       "      <td>71.0</td>\n",
       "      <td>14.0</td>\n",
       "      <td>0.835294</td>\n",
       "    </tr>\n",
       "    <tr>\n",
       "      <th>Scaffold_6215-664813</th>\n",
       "      <td>Scaffold_6215</td>\n",
       "      <td>664813</td>\n",
       "      <td>C</td>\n",
       "      <td>T</td>\n",
       "      <td>NaN</td>\n",
       "      <td>-10.0</td>\n",
       "      <td>SNP</td>\n",
       "      <td>PASS</td>\n",
       "      <td>230</td>\n",
       "      <td>0</td>\n",
       "      <td>17</td>\n",
       "      <td>23</td>\n",
       "      <td>0</td>\n",
       "      <td>Scaffold_6215-664813</td>\n",
       "      <td>C/T</td>\n",
       "      <td>255.0</td>\n",
       "      <td>171</td>\n",
       "      <td>171.0</td>\n",
       "      <td>79.53%</td>\n",
       "      <td>1.130600e-62</td>\n",
       "      <td>136.0</td>\n",
       "      <td>35.0</td>\n",
       "      <td>0.795322</td>\n",
       "    </tr>\n",
       "    <tr>\n",
       "      <th>Scaffold_6303-227203</th>\n",
       "      <td>Scaffold_6303</td>\n",
       "      <td>227203</td>\n",
       "      <td>T</td>\n",
       "      <td>G</td>\n",
       "      <td>NaN</td>\n",
       "      <td>-10.0</td>\n",
       "      <td>SNP</td>\n",
       "      <td>PASS</td>\n",
       "      <td>90</td>\n",
       "      <td>0</td>\n",
       "      <td>0</td>\n",
       "      <td>40</td>\n",
       "      <td>0</td>\n",
       "      <td>Scaffold_6303-227203</td>\n",
       "      <td>G/G</td>\n",
       "      <td>255.0</td>\n",
       "      <td>53</td>\n",
       "      <td>53.0</td>\n",
       "      <td>100%</td>\n",
       "      <td>1.594300e-31</td>\n",
       "      <td>53.0</td>\n",
       "      <td>0.0</td>\n",
       "      <td>1.000000</td>\n",
       "    </tr>\n",
       "  </tbody>\n",
       "</table>\n",
       "<p>121 rows × 23 columns</p>\n",
       "</div>"
      ],
      "text/plain": [
       "                               CHROM      POS REF ALT  AF  QUAL TYPE FILTER  \\\n",
       "Scaffold_35-476207       Scaffold_35   476207   T   G NaN -10.0  SNP   PASS   \n",
       "Scaffold_151-668199     Scaffold_151   668199   T   A NaN -10.0  SNP   PASS   \n",
       "Scaffold_154-4551691    Scaffold_154  4551691   C   T NaN -10.0  SNP   PASS   \n",
       "Scaffold_155-126984     Scaffold_155   126984   C   T NaN -10.0  SNP   PASS   \n",
       "Scaffold_167-1649702    Scaffold_167  1649702   A   G NaN -10.0  SNP   PASS   \n",
       "...                              ...      ...  ..  ..  ..   ...  ...    ...   \n",
       "Scaffold_4937-1236986  Scaffold_4937  1236986   A   G NaN -10.0  SNP   PASS   \n",
       "Scaffold_4937-1236999  Scaffold_4937  1236999   C   T NaN -10.0  SNP   PASS   \n",
       "Scaffold_5839-74825    Scaffold_5839    74825   G   A NaN -10.0  SNP   PASS   \n",
       "Scaffold_6215-664813   Scaffold_6215   664813   C   T NaN -10.0  SNP   PASS   \n",
       "Scaffold_6303-227203   Scaffold_6303   227203   T   G NaN -10.0  SNP   PASS   \n",
       "\n",
       "                       ADP  WT  HET  HOM  NC                  locus  \\\n",
       "Scaffold_35-476207      93   0   21   19   0     Scaffold_35-476207   \n",
       "Scaffold_151-668199    121   0    0   40   0    Scaffold_151-668199   \n",
       "Scaffold_154-4551691    86   0    4   36   0   Scaffold_154-4551691   \n",
       "Scaffold_155-126984    127   0   34    6   0    Scaffold_155-126984   \n",
       "Scaffold_167-1649702   100   0    3   37   0   Scaffold_167-1649702   \n",
       "...                    ...  ..  ...  ...  ..                    ...   \n",
       "Scaffold_4937-1236986  107   0    4   36   0  Scaffold_4937-1236986   \n",
       "Scaffold_4937-1236999  126   0    0   40   0  Scaffold_4937-1236999   \n",
       "Scaffold_5839-74825    176   0   13   27   0    Scaffold_5839-74825   \n",
       "Scaffold_6215-664813   230   0   17   23   0   Scaffold_6215-664813   \n",
       "Scaffold_6303-227203    90   0    0   40   0   Scaffold_6303-227203   \n",
       "\n",
       "                      JP_p101.GT  JP_p101.GQ  JP_p101.SDP  JP_p101.DP  \\\n",
       "Scaffold_35-476207           T/G       254.0           59        59.0   \n",
       "Scaffold_151-668199          A/A       255.0           73        73.0   \n",
       "Scaffold_154-4551691         T/T       255.0           63        63.0   \n",
       "Scaffold_155-126984          C/T       255.0           80        80.0   \n",
       "Scaffold_167-1649702         G/G       255.0           69        69.0   \n",
       "...                          ...         ...          ...         ...   \n",
       "Scaffold_4937-1236986        G/G       255.0           94        94.0   \n",
       "Scaffold_4937-1236999        T/T       255.0          117       117.0   \n",
       "Scaffold_5839-74825          A/A       255.0           85        85.0   \n",
       "Scaffold_6215-664813         C/T       255.0          171       171.0   \n",
       "Scaffold_6303-227203         G/G       255.0           53        53.0   \n",
       "\n",
       "                      JP_p101.FREQ  JP_p101.PVAL  JP_p101.AD  JP_p101.RD  \\\n",
       "Scaffold_35-476207          74.58%  3.809700e-26        44.0         0.0   \n",
       "Scaffold_151-668199         97.26%  2.683500e-42        71.0         0.0   \n",
       "Scaffold_154-4551691        96.83%  2.609000e-36        61.0         0.0   \n",
       "Scaffold_155-126984         78.75%  1.657000e-37        63.0         0.0   \n",
       "Scaffold_167-1649702        88.41%  2.000100e-33        61.0         3.0   \n",
       "...                            ...           ...         ...         ...   \n",
       "Scaffold_4937-1236986       90.36%  1.469400e-38        75.0         8.0   \n",
       "Scaffold_4937-1236999         100%  6.952000e-70       117.0         0.0   \n",
       "Scaffold_5839-74825         83.53%  4.155400e-34        71.0        14.0   \n",
       "Scaffold_6215-664813        79.53%  1.130600e-62       136.0        35.0   \n",
       "Scaffold_6303-227203          100%  1.594300e-31        53.0         0.0   \n",
       "\n",
       "                       JP_p101_new.FREQ  \n",
       "Scaffold_35-476207             1.000000  \n",
       "Scaffold_151-668199            1.000000  \n",
       "Scaffold_154-4551691           1.000000  \n",
       "Scaffold_155-126984            1.000000  \n",
       "Scaffold_167-1649702           0.953125  \n",
       "...                                 ...  \n",
       "Scaffold_4937-1236986          0.903614  \n",
       "Scaffold_4937-1236999          1.000000  \n",
       "Scaffold_5839-74825            0.835294  \n",
       "Scaffold_6215-664813           0.795322  \n",
       "Scaffold_6303-227203           1.000000  \n",
       "\n",
       "[121 rows x 23 columns]"
      ]
     },
     "execution_count": 277,
     "metadata": {},
     "output_type": "execute_result"
    }
   ],
   "source": [
    "goodcols = [col for col in vdata if '.' not in col]\n",
    "goodcols.extend([col for col in vdata if 'JP_p101' in col])\n",
    "weird_var[goodcols]"
   ]
  },
  {
   "cell_type": "code",
   "execution_count": 278,
   "metadata": {},
   "outputs": [
    {
     "data": {
      "text/html": [
       "<div>\n",
       "<style scoped>\n",
       "    .dataframe tbody tr th:only-of-type {\n",
       "        vertical-align: middle;\n",
       "    }\n",
       "\n",
       "    .dataframe tbody tr th {\n",
       "        vertical-align: top;\n",
       "    }\n",
       "\n",
       "    .dataframe thead th {\n",
       "        text-align: right;\n",
       "    }\n",
       "</style>\n",
       "<table border=\"1\" class=\"dataframe\">\n",
       "  <thead>\n",
       "    <tr style=\"text-align: right;\">\n",
       "      <th></th>\n",
       "      <th>JP_p101.FREQ</th>\n",
       "      <th>AF</th>\n",
       "    </tr>\n",
       "  </thead>\n",
       "  <tbody>\n",
       "    <tr>\n",
       "      <th>Scaffold_35-476207</th>\n",
       "      <td>0.7458</td>\n",
       "      <td>0.375</td>\n",
       "    </tr>\n",
       "    <tr>\n",
       "      <th>Scaffold_151-668199</th>\n",
       "      <td>0.9726</td>\n",
       "      <td>0.075</td>\n",
       "    </tr>\n",
       "    <tr>\n",
       "      <th>Scaffold_154-4551691</th>\n",
       "      <td>0.9683</td>\n",
       "      <td>0.053</td>\n",
       "    </tr>\n",
       "    <tr>\n",
       "      <th>Scaffold_155-126984</th>\n",
       "      <td>0.7875</td>\n",
       "      <td>0.250</td>\n",
       "    </tr>\n",
       "    <tr>\n",
       "      <th>Scaffold_167-1649702</th>\n",
       "      <td>0.8841</td>\n",
       "      <td>0.200</td>\n",
       "    </tr>\n",
       "    <tr>\n",
       "      <th>...</th>\n",
       "      <td>...</td>\n",
       "      <td>...</td>\n",
       "    </tr>\n",
       "    <tr>\n",
       "      <th>Scaffold_4937-1236986</th>\n",
       "      <td>0.9036</td>\n",
       "      <td>0.150</td>\n",
       "    </tr>\n",
       "    <tr>\n",
       "      <th>Scaffold_4937-1236999</th>\n",
       "      <td>1.0000</td>\n",
       "      <td>0.150</td>\n",
       "    </tr>\n",
       "    <tr>\n",
       "      <th>Scaffold_5839-74825</th>\n",
       "      <td>0.8353</td>\n",
       "      <td>0.375</td>\n",
       "    </tr>\n",
       "    <tr>\n",
       "      <th>Scaffold_6215-664813</th>\n",
       "      <td>0.7953</td>\n",
       "      <td>0.350</td>\n",
       "    </tr>\n",
       "    <tr>\n",
       "      <th>Scaffold_6303-227203</th>\n",
       "      <td>1.0000</td>\n",
       "      <td>0.184</td>\n",
       "    </tr>\n",
       "  </tbody>\n",
       "</table>\n",
       "<p>121 rows × 2 columns</p>\n",
       "</div>"
      ],
      "text/plain": [
       "                       JP_p101.FREQ     AF\n",
       "Scaffold_35-476207           0.7458  0.375\n",
       "Scaffold_151-668199          0.9726  0.075\n",
       "Scaffold_154-4551691         0.9683  0.053\n",
       "Scaffold_155-126984          0.7875  0.250\n",
       "Scaffold_167-1649702         0.8841  0.200\n",
       "...                             ...    ...\n",
       "Scaffold_4937-1236986        0.9036  0.150\n",
       "Scaffold_4937-1236999        1.0000  0.150\n",
       "Scaffold_5839-74825          0.8353  0.375\n",
       "Scaffold_6215-664813         0.7953  0.350\n",
       "Scaffold_6303-227203         1.0000  0.184\n",
       "\n",
       "[121 rows x 2 columns]"
      ]
     },
     "execution_count": 278,
     "metadata": {},
     "output_type": "execute_result"
    }
   ],
   "source": [
    "# compare the freqs. Looks like the weird loci just need adjustment (1-AF)\n",
    "pd.concat([pd.DataFrame(weird_var['JP_p101.FREQ'].str.replace(\"%\",\"\").astype(float)/100).T, \n",
    "          pd.DataFrame(weird_gatk['AF']).T]).T"
   ]
  },
  {
   "cell_type": "code",
   "execution_count": 289,
   "metadata": {},
   "outputs": [
    {
     "data": {
      "text/plain": [
       "(98, 23)"
      ]
     },
     "execution_count": 289,
     "metadata": {},
     "output_type": "execute_result"
    }
   ],
   "source": [
    "# count stuff\n",
    "lst = [1 if '+' in alt else 0 for alt in weird_gatk['ALT']]\n",
    "lst.count(1), lst.count(0)  # noREF, non noREF in wierd data"
   ]
  },
  {
   "cell_type": "code",
   "execution_count": 101,
   "metadata": {},
   "outputs": [
    {
     "data": {
      "image/png": "[encoded data removed]",
      "text/plain": [
       "<Figure size 360x288 with 4 Axes>"
      ]
     },
     "metadata": {
      "needs_background": "light"
     },
     "output_type": "display_data"
    }
   ],
   "source": [
    "makesweetgraph(weird_var['JP_p101_new.FREQ'], weird_gatk['AF'],\n",
    "              xlab='varscan', ylab='gatk')"
   ]
  },
  {
   "cell_type": "code",
   "execution_count": 294,
   "metadata": {},
   "outputs": [
    {
     "data": {
      "image/png": "[encoded data removed]",
      "text/plain": [
       "<Figure size 432x288 with 1 Axes>"
      ]
     },
     "metadata": {
      "needs_background": "light"
     },
     "output_type": "display_data"
    }
   ],
   "source": [
    "# are the weird loci due to weird RD vals? A: No, look pretty normal.\n",
    "plt.hist(vdata['JP_p101.RD'][vdata['JP_p101.RD']<1000], bins=100)\n",
    "plt.show()"
   ]
  },
  {
   "cell_type": "markdown",
   "metadata": {},
   "source": [
    "#### what does it look like if I remove SNPs with depth probs ONLY when RD=0?   #  A: doesn't change much"
   ]
  },
  {
   "cell_type": "code",
   "execution_count": 299,
   "metadata": {},
   "outputs": [
    {
     "data": {
      "text/plain": [
       "2324"
      ]
     },
     "execution_count": 299,
     "metadata": {},
     "output_type": "execute_result"
    }
   ],
   "source": [
    "# remove SNPs that have FREQ != AD/DP !AND! have RD=0\n",
    "test = vdata[(vdata['JP_p101.RD']==0) & ((vdata['JP_p101.AD']+vdata['JP_p101.RD']) != vdata['JP_p101.DP'])].copy()\n",
    "nrow(test)"
   ]
  },
  {
   "cell_type": "code",
   "execution_count": 300,
   "metadata": {},
   "outputs": [
    {
     "data": {
      "text/plain": [
       "92"
      ]
     },
     "execution_count": 300,
     "metadata": {},
     "output_type": "execute_result"
    }
   ],
   "source": [
    "# how many intersect with the weird loci?\n",
    "len(set(test.index).intersection(weird_var.index))"
   ]
  },
  {
   "cell_type": "code",
   "execution_count": 301,
   "metadata": {
    "scrolled": true
   },
   "outputs": [
    {
     "name": "stdout",
     "output_type": "stream",
     "text": [
      "(0.9763035347076849, 0.0)\n"
     ]
    },
    {
     "data": {
      "image/png": "[encoded data removed]",
      "text/plain": [
       "<Figure size 360x288 with 4 Axes>"
      ]
     },
     "metadata": {
      "needs_background": "light"
     },
     "output_type": "display_data"
    }
   ],
   "source": [
    "# see if adjusting works A: kinda meh\n",
    "vadjusted = vdata[~vdata.index.isin(test.index)].copy()\n",
    "gadjusted = gatk[~gatk.index.isin(test.index)].copy()\n",
    "print(pearsonr(vadjusted['JP_p101_new.FREQ'], gadjusted['AF']))\n",
    "makesweetgraph(vadjusted['JP_p101_new.FREQ'], gadjusted['AF'],\n",
    "              xlab='varscan', ylab='gatk', title=\"filtered SNPs, depth-adjusted freq\")"
   ]
  },
  {
   "cell_type": "code",
   "execution_count": 302,
   "metadata": {},
   "outputs": [
    {
     "name": "stdout",
     "output_type": "stream",
     "text": [
      "(0.9763500243425801, 0.0)\n"
     ]
    },
    {
     "data": {
      "image/png": "[encoded data removed]",
      "text/plain": [
       "<Figure size 360x288 with 4 Axes>"
      ]
     },
     "metadata": {
      "needs_background": "light"
     },
     "output_type": "display_data"
    }
   ],
   "source": [
    "# compare to correlation of unadjusted FREQ - A: unadjusted is slightly worse, but prob not significantly\n",
    "print(pearsonr(vadjusted['JP_p101.FREQ'].str.replace(\"%\",\"\").astype(float)/100, gadjusted['AF']))\n",
    "makesweetgraph(vadjusted['JP_p101.FREQ'].str.replace(\"%\",\"\").astype(float)/100, gadjusted['AF'],\n",
    "              xlab='varscan', ylab='gatk', title='filtered SNPs, no adjustment')"
   ]
  },
  {
   "cell_type": "markdown",
   "metadata": {},
   "source": [
    "#### what happens when I adjust freq to 100% for all the varscan SNPs with RD=0 AND DP!=AD+RD?\n",
    "A: r goes down a little bit"
   ]
  },
  {
   "cell_type": "code",
   "execution_count": 304,
   "metadata": {},
   "outputs": [
    {
     "data": {
      "text/plain": [
       "(0.9754656288531, 0.0)"
      ]
     },
     "execution_count": 304,
     "metadata": {},
     "output_type": "execute_result"
    }
   ],
   "source": [
    "# using data: RD==0 && DP!=AD+RD, change freq to 100%\n",
    "v100 = vdata.copy()\n",
    "v100.loc[v100.index.isin(test.index), 'JP_p101.FREQ'] = '100%'\n",
    "pearsonr(v100['JP_p101.FREQ'].str.replace(\"%\",\"\").astype(float)/100, gatk['AF'])"
   ]
  },
  {
   "cell_type": "markdown",
   "metadata": {},
   "source": [
    "#### look at noREF snps"
   ]
  },
  {
   "cell_type": "code",
   "execution_count": 193,
   "metadata": {
    "scrolled": true
   },
   "outputs": [
    {
     "data": {
      "text/plain": [
       "1106"
      ]
     },
     "execution_count": 193,
     "metadata": {},
     "output_type": "execute_result"
    }
   ],
   "source": [
    "# get the noREF SNPs (these have 'alt1+alt2' ALT alleles (from our pipelines), note the '+')\n",
    "multigatk = gatk[gatk['ALT'].str.contains('+',regex=False)].copy()\n",
    "multivarscan = vdata[vdata.index.isin(multigatk.index)].copy()  # get intersection\n",
    "nrow(multigatk)"
   ]
  },
  {
   "cell_type": "markdown",
   "metadata": {},
   "source": [
    "#### how many varscan SNPs have depth descrepancies (DP != AD + RD)?"
   ]
  },
  {
   "cell_type": "code",
   "execution_count": 210,
   "metadata": {},
   "outputs": [
    {
     "data": {
      "text/plain": [
       "16339"
      ]
     },
     "execution_count": 210,
     "metadata": {},
     "output_type": "execute_result"
    }
   ],
   "source": [
    "sum(vdata['JP_p101.DP'] != (vdata['JP_p101.AD']+vdata['JP_p101.RD']))"
   ]
  },
  {
   "cell_type": "markdown",
   "metadata": {},
   "source": [
    "#### explore data when DP != AD + RD - A: nothing super weird going on, correlation decreases to about 0.955 (still high)"
   ]
  },
  {
   "cell_type": "code",
   "execution_count": 328,
   "metadata": {},
   "outputs": [
    {
     "data": {
      "text/plain": [
       "((16339, 335), (16339, 114))"
      ]
     },
     "execution_count": 328,
     "metadata": {},
     "output_type": "execute_result"
    }
   ],
   "source": [
    "# isolate data\n",
    "dpvar = vdata[vdata['JP_p101.DP'] != (vdata['JP_p101.AD']+vdata['JP_p101.RD'])].copy()\n",
    "dpgatk = gatk[gatk.index.isin(dpvar.index)].copy()\n",
    "dpvar.shape, dpgatk.shape"
   ]
  },
  {
   "cell_type": "code",
   "execution_count": 322,
   "metadata": {},
   "outputs": [
    {
     "data": {
      "text/plain": [
       "(15349, 5859.0)"
      ]
     },
     "execution_count": 322,
     "metadata": {},
     "output_type": "execute_result"
    }
   ],
   "source": [
    "sum(dpvar['JP_p101.RD']<200), max(dpvar['JP_p101.RD'])"
   ]
  },
  {
   "cell_type": "code",
   "execution_count": 323,
   "metadata": {},
   "outputs": [
    {
     "data": {
      "image/png": "[encoded data removed]",
      "text/plain": [
       "<Figure size 432x288 with 1 Axes>"
      ]
     },
     "metadata": {
      "needs_background": "light"
     },
     "output_type": "display_data"
    }
   ],
   "source": [
    "# look at RD histogram\n",
    "plt.hist(dpvar['JP_p101.RD'][dpvar['JP_p101.RD']<200],bins=100)\n",
    "plt.show()"
   ]
  },
  {
   "cell_type": "code",
   "execution_count": 324,
   "metadata": {},
   "outputs": [
    {
     "data": {
      "image/png": "[encoded data removed]",
      "text/plain": [
       "<Figure size 432x288 with 1 Axes>"
      ]
     },
     "metadata": {
      "needs_background": "light"
     },
     "output_type": "display_data"
    }
   ],
   "source": [
    "# look at DP histogram\n",
    "plt.hist(dpvar['JP_p101.DP'][dpvar['JP_p101.DP']<1000],bins=100)\n",
    "plt.show()"
   ]
  },
  {
   "cell_type": "code",
   "execution_count": 325,
   "metadata": {},
   "outputs": [
    {
     "data": {
      "text/plain": [
       "(0.9556260043913264, 0.0)"
      ]
     },
     "execution_count": 325,
     "metadata": {},
     "output_type": "execute_result"
    }
   ],
   "source": [
    "pearsonr(dpvar['JP_p101.FREQ'].str.replace(\"%\",\"\").astype(float)/100, dpgatk['AF'])"
   ]
  },
  {
   "cell_type": "code",
   "execution_count": 356,
   "metadata": {},
   "outputs": [
    {
     "data": {
      "image/png": "[encoded data removed]",
      "text/plain": [
       "<Figure size 360x288 with 4 Axes>"
      ]
     },
     "metadata": {
      "needs_background": "light"
     },
     "output_type": "display_data"
    }
   ],
   "source": [
    "makesweetgraph(dpvar['JP_p101.FREQ'].str.replace(\"%\",\"\").astype(float)/100, dpgatk['AF'])"
   ]
  },
  {
   "cell_type": "code",
   "execution_count": 327,
   "metadata": {},
   "outputs": [
    {
     "name": "stdout",
     "output_type": "stream",
     "text": [
      "(0.9778114258206512, 0.0)\n"
     ]
    },
    {
     "data": {
      "image/png": "[encoded data removed]",
      "text/plain": [
       "<Figure size 360x288 with 4 Axes>"
      ]
     },
     "metadata": {
      "needs_background": "light"
     },
     "output_type": "display_data"
    }
   ],
   "source": [
    "# fix the bottom right stuff\n",
    "goodvar = vdata[~vdata.index.isin(dpvar.index)].copy()\n",
    "goodgatk = gatk[~gatk.index.isin(dpvar.index)].copy()\n",
    "print(pearsonr(goodvar['JP_p101.FREQ'].str.replace(\"%\",\"\").astype(float)/100, goodgatk['AF']))\n",
    "makesweetgraph(goodvar['JP_p101.FREQ'].str.replace(\"%\",\"\").astype(float)/100, goodgatk['AF'])"
   ]
  },
  {
   "cell_type": "code",
   "execution_count": 331,
   "metadata": {},
   "outputs": [
    {
     "name": "stdout",
     "output_type": "stream",
     "text": [
      "(0.9761389392068591, 0.0)\n"
     ]
    }
   ],
   "source": [
    "print(pearsonr(vdata['JP_p101.FREQ'].str.replace(\"%\",\"\").astype(float)/100, gatk['AF']))"
   ]
  },
  {
   "cell_type": "code",
   "execution_count": 337,
   "metadata": {
    "scrolled": true
   },
   "outputs": [
    {
     "data": {
      "text/plain": [
       "0.7458"
      ]
     },
     "execution_count": 337,
     "metadata": {},
     "output_type": "execute_result"
    }
   ],
   "source": [
    "float(weird_var.loc['Scaffold_35-476207', 'JP_p101.FREQ'].replace(\"%\",\"\")) / 100"
   ]
  },
  {
   "cell_type": "code",
   "execution_count": 338,
   "metadata": {},
   "outputs": [
    {
     "data": {
      "text/plain": [
       "(0.977248272136013, 0.0)"
      ]
     },
     "execution_count": 338,
     "metadata": {},
     "output_type": "execute_result"
    }
   ],
   "source": [
    "gatk2 = gatk.copy()\n",
    "for locus in weird_var.index:\n",
    "    varfreq = float(weird_var.loc[locus, 'JP_p101.FREQ'].replace(\"%\",\"\")) / 100\n",
    "    gatkfreq = float(weird_gatk.loc[locus, 'AF'])\n",
    "    if (varfreq > 0.5 and gatkfreq < 0.5) or (varfreq < 0.5 and gatkfreq > 0.5):\n",
    "        gatk2.loc[locus, 'AF'] = 1 - gatk2.loc[locus, 'AF']\n",
    "\n",
    "pearsonr(vdata['JP_p101.FREQ'].str.replace(\"%\",\"\").astype(float)/100, gatk2['AF'])"
   ]
  },
  {
   "cell_type": "code",
   "execution_count": 344,
   "metadata": {},
   "outputs": [
    {
     "data": {
      "image/png": "[encoded data removed]",
      "text/plain": [
       "<Figure size 360x288 with 4 Axes>"
      ]
     },
     "metadata": {
      "needs_background": "light"
     },
     "output_type": "display_data"
    }
   ],
   "source": [
    "makesweetgraph(vdata['JP_p101.FREQ'].str.replace(\"%\",\"\").astype(float)/100, gatk2['AF'],bins=100)"
   ]
  },
  {
   "cell_type": "code",
   "execution_count": 345,
   "metadata": {},
   "outputs": [
    {
     "name": "stdout",
     "output_type": "stream",
     "text": [
      "(0.9768311147493849, 0.0)\n"
     ]
    },
    {
     "data": {
      "image/png": "[encoded data removed]",
      "text/plain": [
       "<Figure size 360x288 with 4 Axes>"
      ]
     },
     "metadata": {
      "needs_background": "light"
     },
     "output_type": "display_data"
    }
   ],
   "source": [
    "print(pearsonr(vdata['JP_p101_new.FREQ'], gatk2['AF']))\n",
    "makesweetgraph(vdata['JP_p101_new.FREQ'], gatk2['AF'],\n",
    "              xlab='varscan', ylab='gatk', title='total data, depth-adjusted, no filtering')"
   ]
  },
  {
   "cell_type": "code",
   "execution_count": null,
   "metadata": {},
   "outputs": [],
   "source": []
  },
  {
   "cell_type": "code",
   "execution_count": null,
   "metadata": {},
   "outputs": [],
   "source": []
  },
  {
   "cell_type": "code",
   "execution_count": null,
   "metadata": {},
   "outputs": [],
   "source": []
  }
 ],
 "metadata": {
  "kernelspec": {
   "display_name": "Python 3",
   "language": "python",
   "name": "python3"
  },
  "language_info": {
   "codemirror_mode": {
    "name": "ipython",
    "version": 3
   },
   "file_extension": ".py",
   "mimetype": "text/x-python",
   "name": "python",
   "nbconvert_exporter": "python",
   "pygments_lexer": "ipython3",
   "version": "3.7.6"
  }
 },
 "nbformat": 4,
 "nbformat_minor": 2
}
